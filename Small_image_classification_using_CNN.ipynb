{
  "nbformat": 4,
  "nbformat_minor": 0,
  "metadata": {
    "colab": {
      "name": "Small image classification using CNN",
      "private_outputs": true,
      "provenance": [],
      "include_colab_link": true
    },
    "kernelspec": {
      "name": "python3",
      "display_name": "Python 3"
    }
  },
  "cells": [
    {
      "cell_type": "markdown",
      "metadata": {
        "id": "view-in-github",
        "colab_type": "text"
      },
      "source": [
        "<a href=\"https://colab.research.google.com/github/Savita250/Small_image_classification_using_CNN/blob/main/Small_image_classification_using_CNN.ipynb\" target=\"_parent\"><img src=\"https://colab.research.google.com/assets/colab-badge.svg\" alt=\"Open In Colab\"/></a>"
      ]
    },
    {
      "cell_type": "code",
      "metadata": {
        "id": "kYbdXMmKMbdc"
      },
      "source": [
        "import tensorflow as tf\r\n",
        "from tensorflow.keras import datasets, layers, models\r\n",
        "import matplotlib.pyplot as plt\r\n",
        "import numpy as np"
      ],
      "execution_count": null,
      "outputs": []
    },
    {
      "cell_type": "code",
      "metadata": {
        "id": "EGF8QQGNMrfy"
      },
      "source": [
        "(X_train, y_train), (X_test, y_test) = datasets.cifar10.load_data()\r\n",
        "X_train.shape"
      ],
      "execution_count": null,
      "outputs": []
    },
    {
      "cell_type": "code",
      "metadata": {
        "id": "4ouJDo_XNHwq"
      },
      "source": [
        "X_test.shape"
      ],
      "execution_count": null,
      "outputs": []
    },
    {
      "cell_type": "code",
      "metadata": {
        "id": "qqmm-E94NO2C"
      },
      "source": [
        "y_train.shape"
      ],
      "execution_count": null,
      "outputs": []
    },
    {
      "cell_type": "code",
      "metadata": {
        "id": "D73SwluWNThS"
      },
      "source": [
        "y_train[:5]"
      ],
      "execution_count": null,
      "outputs": []
    },
    {
      "cell_type": "code",
      "metadata": {
        "id": "C2PyBQplrZ7u"
      },
      "source": [
        "##y_train is a 2D array, for our classification having 1D array is good enough. so we will convert this to now 1D array"
      ],
      "execution_count": null,
      "outputs": []
    },
    {
      "cell_type": "code",
      "metadata": {
        "id": "AMXW4WS3rplY"
      },
      "source": [
        "y_train = y_train.reshape(-1,)\r\n",
        "y_train[:5]"
      ],
      "execution_count": null,
      "outputs": []
    },
    {
      "cell_type": "code",
      "metadata": {
        "id": "Qj_lOjujrpn-"
      },
      "source": [
        "y_test = y_test.reshape(-1,)"
      ],
      "execution_count": null,
      "outputs": []
    },
    {
      "cell_type": "code",
      "metadata": {
        "id": "DWKCpjVvrpqt"
      },
      "source": [
        "classes = ['airplane', 'automobile', 'bird', 'cat', 'deer','dog', 'frog', 'horse', 'ship', 'truck']"
      ],
      "execution_count": null,
      "outputs": []
    },
    {
      "cell_type": "code",
      "metadata": {
        "id": "05LCpvZosHwp"
      },
      "source": [
        "def plot_sample(X, y, index):\r\n",
        "  plt.figure(figsize=(15, 2))\r\n",
        "  plt.imshow(X[index])\r\n",
        "  plt.xlabel(classes[y[index]])"
      ],
      "execution_count": null,
      "outputs": []
    },
    {
      "cell_type": "code",
      "metadata": {
        "id": "zwDDMAvFsZQX"
      },
      "source": [
        "plot_sample(X_train, y_train, 0)"
      ],
      "execution_count": null,
      "outputs": []
    },
    {
      "cell_type": "code",
      "metadata": {
        "id": "WBzmfYwzt6B0"
      },
      "source": [
        "plot_sample(X_train, y_train, 1)"
      ],
      "execution_count": null,
      "outputs": []
    },
    {
      "cell_type": "code",
      "metadata": {
        "id": "xdswEOPZuAax"
      },
      "source": [
        "##Normalize the images to a number from 0 to 1. Image has 3 channels (R,G,B) and each value in the channel can range from 0 to 255. Hence to normalize in 0-->1 range, we need to divide it by 255"
      ],
      "execution_count": null,
      "outputs": []
    },
    {
      "cell_type": "code",
      "metadata": {
        "id": "s7RHeff7uFzz"
      },
      "source": [
        "X_train = X_train / 255.0\r\n",
        "X_test = X_test / 255.0"
      ],
      "execution_count": null,
      "outputs": []
    },
    {
      "cell_type": "code",
      "metadata": {
        "id": "OGQnAhSxuYFq"
      },
      "source": [
        "#Build simple artificial neural network for image classification"
      ],
      "execution_count": null,
      "outputs": []
    },
    {
      "cell_type": "code",
      "metadata": {
        "id": "RdgrdPy_udIK"
      },
      "source": [
        "ann = models.Sequential([\r\n",
        "                        layers.Flatten(input_shape=(32, 32, 3)),\r\n",
        "                        layers.Dense(3000,activation='relu'),\r\n",
        "                        layers.Dense(1000, activation='relu'),\r\n",
        "                        layers.Dense(10, activation='sigmoid')\r\n",
        "])\r\n",
        "\r\n",
        "ann.compile(optimizer='SGD',\r\n",
        "            loss='sparse_categorical_crossentropy',\r\n",
        "            metrics=['accuracy'])\r\n",
        "\r\n",
        "ann.fit(X_train, y_train, epochs=5)"
      ],
      "execution_count": null,
      "outputs": []
    },
    {
      "cell_type": "code",
      "metadata": {
        "id": "kcNXXCZxvZN3"
      },
      "source": [
        "#You can see that at the end of 5 epochs, accuracy is at around 49.15%"
      ],
      "execution_count": null,
      "outputs": []
    },
    {
      "cell_type": "code",
      "metadata": {
        "id": "al1CmKe_vxyY"
      },
      "source": [
        "from sklearn.metrics import classification_report, confusion_matrix\r\n",
        "y_pred = ann.predict(X_test)\r\n",
        "y_pred_classes = [np.argmax(element) for element in y_pred]\r\n",
        "\r\n",
        "print('Classification report:\\n', classification_report(y_test, y_pred_classes))"
      ],
      "execution_count": null,
      "outputs": []
    },
    {
      "cell_type": "code",
      "metadata": {
        "id": "G-7Fl1cvyOuU"
      },
      "source": [
        "##Now let us build a convolutional neural network to train our images"
      ],
      "execution_count": null,
      "outputs": []
    },
    {
      "cell_type": "code",
      "metadata": {
        "id": "wmqrpq0LyYXP"
      },
      "source": [
        "cnn = models.Sequential([\r\n",
        "                         layers.Conv2D(filters=32, kernel_size=(3, 3), activation='relu', input_shape=(32, 32, 3)),\r\n",
        "                         layers.MaxPooling2D((2, 2)),\r\n",
        "\r\n",
        "                         layers.Conv2D(filters=64, kernel_size=(3, 3), activation='relu'),\r\n",
        "                         layers.MaxPooling2D((2, 2)),\r\n",
        "\r\n",
        "                         layers.Flatten(),\r\n",
        "                         layers.Dense(64, activation='relu'),\r\n",
        "                         layers.Dense(10, activation='softmax')\r\n",
        "])"
      ],
      "execution_count": null,
      "outputs": []
    },
    {
      "cell_type": "code",
      "metadata": {
        "id": "zxPuICpX1A2D"
      },
      "source": [
        "cnn.compile(optimizer='adam',\r\n",
        "            loss='sparse_categorical_crossentropy',\r\n",
        "            metrics=['accuracy'])"
      ],
      "execution_count": null,
      "outputs": []
    },
    {
      "cell_type": "code",
      "metadata": {
        "id": "7L_K9Fa31Wr_"
      },
      "source": [
        "cnn.fit(X_train, y_train, epochs=10)"
      ],
      "execution_count": null,
      "outputs": []
    },
    {
      "cell_type": "code",
      "metadata": {
        "id": "eqdlMy3C1ev6"
      },
      "source": [
        "##With CNN, at the end 5 epochs, accuracy was at around 72.08% which is a significant improvement over ANN. CNN's are best for image classification and gives superb accuracy. Also computation is much less compared to simple ANN as maxpooling reduces the image dimensions while still preserving the features"
      ],
      "execution_count": null,
      "outputs": []
    },
    {
      "cell_type": "code",
      "metadata": {
        "id": "ZqibyaWk1o7E"
      },
      "source": [
        "cnn.evaluate(X_test, y_test)"
      ],
      "execution_count": null,
      "outputs": []
    },
    {
      "cell_type": "code",
      "metadata": {
        "id": "aOafNUao3uNa"
      },
      "source": [
        "y_pred = cnn.predict(X_test)\r\n",
        "y_pred[:5]"
      ],
      "execution_count": null,
      "outputs": []
    },
    {
      "cell_type": "code",
      "metadata": {
        "id": "slVhqrMp33Qy"
      },
      "source": [
        "y_classes = [np.argmax(element) for element in y_pred]\r\n",
        "y_classes[:5]"
      ],
      "execution_count": null,
      "outputs": []
    },
    {
      "cell_type": "code",
      "metadata": {
        "id": "TeoFRGL14FvV"
      },
      "source": [
        "y_test[:5]"
      ],
      "execution_count": null,
      "outputs": []
    },
    {
      "cell_type": "code",
      "metadata": {
        "id": "h1ac_Bkc4J1U"
      },
      "source": [
        "plot_sample(X_test, y_test, 3)"
      ],
      "execution_count": null,
      "outputs": []
    },
    {
      "cell_type": "code",
      "metadata": {
        "id": "q7izew3A4OIJ"
      },
      "source": [
        "classes[y_classes[3]]"
      ],
      "execution_count": null,
      "outputs": []
    },
    {
      "cell_type": "code",
      "metadata": {
        "id": "Uwgz8Thb4YSJ"
      },
      "source": [
        ""
      ],
      "execution_count": null,
      "outputs": []
    }
  ]
}